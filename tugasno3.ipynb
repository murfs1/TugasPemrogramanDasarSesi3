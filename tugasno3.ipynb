{
 "cells": [
  {
   "cell_type": "code",
   "execution_count": 1,
   "id": "db622767",
   "metadata": {},
   "outputs": [
    {
     "name": "stdout",
     "output_type": "stream",
     "text": [
      "Hasil Hitung :  7800\n"
     ]
    }
   ],
   "source": [
    "#tugas no. 3 membuat sebuah pemrograman sederhana hasil dari (angka1+500)+(angka2+500)-200\n",
    "#diketahui angka1 = 5000, angka2 = 2000 dan angka3 = 200\n",
    "\n",
    "#deklarasi variabel\n",
    "#500 dijadikan variabel a agar mudah\n",
    "angka1 = 5000\n",
    "angka2 = 2000\n",
    "angka3 = 200\n",
    "a = 500\n",
    "\n",
    "#membuat rumus yang dimana kita sebut saja \"hasil\"\n",
    "hasil = (angka1+a)+(angka2+a)-angka3\n",
    "\n",
    "#membuat output atau tampilan saat program di jalankan\n",
    "print(\"Hasil Hitung : \",hasil)"
   ]
  }
 ],
 "metadata": {
  "kernelspec": {
   "display_name": "Python 3 (ipykernel)",
   "language": "python",
   "name": "python3"
  },
  "language_info": {
   "codemirror_mode": {
    "name": "ipython",
    "version": 3
   },
   "file_extension": ".py",
   "mimetype": "text/x-python",
   "name": "python",
   "nbconvert_exporter": "python",
   "pygments_lexer": "ipython3",
   "version": "3.9.12"
  }
 },
 "nbformat": 4,
 "nbformat_minor": 5
}
