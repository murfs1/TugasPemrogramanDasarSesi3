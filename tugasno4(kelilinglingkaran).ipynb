{
 "cells": [
  {
   "cell_type": "code",
   "execution_count": 1,
   "id": "35e86500",
   "metadata": {},
   "outputs": [
    {
     "name": "stdout",
     "output_type": "stream",
     "text": [
      "Masukan Jari-jari = 14\n",
      "Keliling Lingkaran =  87.96459430051421\n"
     ]
    }
   ],
   "source": [
    "#tugas no. 4 membuat program menghitung keliling lingkaran dan volume kubus\n",
    "#program menghitung keliling lingkaran\n",
    "\n",
    "#import 'math' agar 'pi' mempunyai nilai \n",
    "import math\n",
    "\n",
    "#membuat inputan jari-jari berupa float\n",
    "r = float(input(\"Masukan Jari-jari = \"))\n",
    "\n",
    "#membuat rumus keliling\n",
    "keliling = 2*math.pi*r\n",
    "\n",
    "#membuat output\n",
    "print (\"Keliling Lingkaran = \",keliling)"
   ]
  }
 ],
 "metadata": {
  "kernelspec": {
   "display_name": "Python 3 (ipykernel)",
   "language": "python",
   "name": "python3"
  },
  "language_info": {
   "codemirror_mode": {
    "name": "ipython",
    "version": 3
   },
   "file_extension": ".py",
   "mimetype": "text/x-python",
   "name": "python",
   "nbconvert_exporter": "python",
   "pygments_lexer": "ipython3",
   "version": "3.9.12"
  }
 },
 "nbformat": 4,
 "nbformat_minor": 5
}
