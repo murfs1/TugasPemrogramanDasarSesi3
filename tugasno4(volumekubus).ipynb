{
 "cells": [
  {
   "cell_type": "code",
   "execution_count": 2,
   "id": "80cb63a4",
   "metadata": {},
   "outputs": [
    {
     "name": "stdout",
     "output_type": "stream",
     "text": [
      " Masukkan Sisi : 7\n",
      " Volume Kubus adalah :  21.0\n"
     ]
    }
   ],
   "source": [
    "#tugas no. 4 membuat program menghitung keliling lingkaran dan volume kubus\n",
    "#program menghitung volume kubus\n",
    "\n",
    "#membuatt inputan sisi berupa float\n",
    "sisi = float(input(\" Masukkan Sisi : \"))\n",
    "\n",
    "#membuat rumus volume kubus\n",
    "hasil = sisi+sisi+sisi\n",
    "\n",
    "#membuat output\n",
    "print(\" Volume Kubus adalah : \",hasil)"
   ]
  }
 ],
 "metadata": {
  "kernelspec": {
   "display_name": "Python 3 (ipykernel)",
   "language": "python",
   "name": "python3"
  },
  "language_info": {
   "codemirror_mode": {
    "name": "ipython",
    "version": 3
   },
   "file_extension": ".py",
   "mimetype": "text/x-python",
   "name": "python",
   "nbconvert_exporter": "python",
   "pygments_lexer": "ipython3",
   "version": "3.9.12"
  }
 },
 "nbformat": 4,
 "nbformat_minor": 5
}
