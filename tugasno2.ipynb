{
 "cells": [
  {
   "cell_type": "code",
   "execution_count": 1,
   "id": "0e85fcde",
   "metadata": {},
   "outputs": [
    {
     "name": "stdout",
     "output_type": "stream",
     "text": [
      "Muhamad Rifda Firdaus. S\n",
      "085795040693\n",
      "20220040211\n"
     ]
    }
   ],
   "source": [
    "#tugas no. 2 membuat komentar nama, no. telepon dan nim\n",
    "#dikarenakan tidak perlu adanya inputan, langsung membuat ouput\n",
    "\n",
    "#output nama\n",
    "print(\"Muhamad Rifda Firdaus. S\")\n",
    "#output no hp\n",
    "print(\"085795040693\")\n",
    "#output nim\n",
    "print(\"20220040211\")"
   ]
  }
 ],
 "metadata": {
  "kernelspec": {
   "display_name": "Python 3 (ipykernel)",
   "language": "python",
   "name": "python3"
  },
  "language_info": {
   "codemirror_mode": {
    "name": "ipython",
    "version": 3
   },
   "file_extension": ".py",
   "mimetype": "text/x-python",
   "name": "python",
   "nbconvert_exporter": "python",
   "pygments_lexer": "ipython3",
   "version": "3.9.12"
  }
 },
 "nbformat": 4,
 "nbformat_minor": 5
}
